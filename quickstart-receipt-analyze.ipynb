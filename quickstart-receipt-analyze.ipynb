{
 "cells": [
  {
   "cell_type": "code",
   "execution_count": 1,
   "metadata": {},
   "outputs": [],
   "source": [
    "FORMRECOGNIZER_ENDPOINT = \"https://ocrreaderinst.cognitiveservices.azure.com/\"\n",
    "FORMRECOGNIZER_KEY = \"4b06e30cd4b84b6f9f43d6f82f2f9dba\""
   ]
  },
  {
   "cell_type": "code",
   "execution_count": 2,
   "metadata": {},
   "outputs": [],
   "source": [
    "from azure.core.credentials import AzureKeyCredential\n",
    "from azure.ai.formrecognizer import FormRecognizerClient, FormField\n",
    "\n",
    "# Initiate client with given endpoint and credential\n",
    "client = FormRecognizerClient(FORMRECOGNIZER_ENDPOINT, AzureKeyCredential(FORMRECOGNIZER_KEY))"
   ]
  },
  {
   "cell_type": "markdown",
   "metadata": {},
   "source": [
    "## Start an analyze request for your local files with `begin_recognize_receipts`"
   ]
  },
  {
   "cell_type": "code",
   "execution_count": 3,
   "metadata": {},
   "outputs": [
    {
     "name": "stdout",
     "output_type": "stream",
     "text": [
      "Status: succeeded, Document(s): 1\n"
     ]
    }
   ],
   "source": [
    "# Read the sample image file into memory\n",
    "IMAGE_FILE = 'sample-receipt.png'\n",
    "with open(IMAGE_FILE, 'rb') as f:\n",
    "    data = f.read()\n",
    "\n",
    "# Send request to Form Recognizer service to process data\n",
    "task = client.begin_recognize_receipts(data)\n",
    "\n",
    "# Get the analyze result\n",
    "analyzed_result = task.result()\n",
    "print('Status: {}, Document(s): {}'.format(task.status(), len(analyzed_result)))"
   ]
  },
  {
   "cell_type": "markdown",
   "metadata": {},
   "source": [
    "## You can also analyze files from the web using `begin_recognize_receipts_from_url`"
   ]
  },
  {
   "cell_type": "code",
   "execution_count": 4,
   "metadata": {},
   "outputs": [
    {
     "name": "stdout",
     "output_type": "stream",
     "text": [
      "Status: succeeded, Document(s): 1\n"
     ]
    }
   ],
   "source": [
    "IMAGE_URL = 'https://raw.githubusercontent.com/Azure-Samples/cognitive-services-REST-api-samples/master/curl/form-recognizer/contoso-receipt.png'\n",
    "\n",
    "# Send request to Form Recognizer service to process data\n",
    "task = client.begin_recognize_receipts_from_url(IMAGE_URL)\n",
    "\n",
    "# Get the analyze result\n",
    "analyzed_result = task.result()\n",
    "print('Status: {}, Document(s): {}'.format(task.status(), len(analyzed_result)))"
   ]
  },
  {
   "cell_type": "markdown",
   "metadata": {},
   "source": [
    "## Extract information from analyzed result"
   ]
  },
  {
   "cell_type": "code",
   "execution_count": 5,
   "metadata": {},
   "outputs": [
    {
     "name": "stdout",
     "output_type": "stream",
     "text": [
      "Receipt Items:\n",
      "...Item #1\n",
      "......Name: Surface Pro 6 has confidence 0.914\n",
      "......Quantity: 1.0 has confidence 0.971\n",
      "......TotalPrice: 999.0 has confidence 0.983\n",
      "...Item #2\n",
      "......Name: SurfacePen has confidence 0.718\n",
      "......Quantity: 1.0 has confidence 0.976\n",
      "......TotalPrice: 99.99 has confidence 0.967\n",
      "MerchantAddress: 123 Main Street Redmond, WA 98052 has confidence 0.975\n",
      "MerchantName: Contoso has confidence 0.974\n",
      "MerchantPhoneNumber: None has confidence 0.988\n",
      "ReceiptType: Itemized has confidence 0.99\n",
      "Subtotal: 1098.99 has confidence 0.982\n",
      "Tax: 104.4 has confidence 0.985\n",
      "Total: 1203.39 has confidence 0.957\n",
      "TransactionDate: 2019-06-10 has confidence 0.987\n",
      "TransactionTime: 13:59:00 has confidence 0.985\n"
     ]
    }
   ],
   "source": [
    "for receipt in analyzed_result:\n",
    "    for name, field in receipt.fields.items():\n",
    "        if name == \"Items\":\n",
    "            print(\"Receipt Items:\")\n",
    "            for idx, items in enumerate(field.value):\n",
    "                print(\"...Item #{}\".format(idx + 1))\n",
    "                for item_name, item in items.value.items():\n",
    "                    print(\"......{}: {} has confidence {}\".format(item_name, item.value, item.confidence))\n",
    "        else:\n",
    "            print(\"{}: {} has confidence {}\".format(name, field.value, field.confidence))"
   ]
  }
 ],
 "metadata": {
  "interpreter": {
   "hash": "4cd7ab41f5fca4b9b44701077e38c5ffd31fe66a6cab21e0214b68d958d0e462"
  },
  "kernelspec": {
   "display_name": "Python 3",
   "language": "python",
   "name": "python3"
  },
  "language_info": {
   "codemirror_mode": {
    "name": "ipython",
    "version": 3
   },
   "file_extension": ".py",
   "mimetype": "text/x-python",
   "name": "python",
   "nbconvert_exporter": "python",
   "pygments_lexer": "ipython3",
   "version": "3.10.12"
  }
 },
 "nbformat": 4,
 "nbformat_minor": 2
}
